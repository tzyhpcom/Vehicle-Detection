{
 "cells": [
  {
   "cell_type": "code",
   "execution_count": 1,
   "metadata": {
    "collapsed": true
   },
   "outputs": [],
   "source": [
    "import matplotlib.pyplot as plt\n",
    "import matplotlib.image as mpimg\n",
    "import numpy as np\n",
    "import cv2\n",
    "import glob\n",
    "import time\n",
    "from sklearn.svm import LinearSVC\n",
    "from sklearn.preprocessing import StandardScaler\n",
    "from skimage.feature import hog\n",
    "from sklearn.utils import shuffle\n",
    "# NOTE: the next import is only valid for scikit-learn version <= 0.17\n",
    "# for scikit-learn >= 0.18 use:\n",
    "from sklearn.model_selection import train_test_split\n",
    "# from sklearn.cross_validation import train_test_split\n",
    "%matplotlib inline"
   ]
  },
  {
   "cell_type": "code",
   "execution_count": 2,
   "metadata": {
    "collapsed": true
   },
   "outputs": [],
   "source": [
    "# augment functions\n",
    "\n",
    "# transform x y direction, input original rgb image\n",
    "def transform_image(image):\n",
    "    trans_range = 2\n",
    "    tx = trans_range*(np.random.uniform()-0.5)\n",
    "    ty = 2*(np.random.uniform()-0.5)\n",
    "    rows,cols,_ = image.shape\n",
    "    M = np.float32([[1,0,tx],[0,1,ty]])\n",
    "    image = cv2.warpAffine(image,M,(cols,rows))\n",
    "    return image\n",
    "\n",
    "# Horizontal Flip\n",
    "def flip_image(image):\n",
    "    # Horizontal Flip\n",
    "    image = cv2.flip(image, 1)\n",
    "    return image\n",
    "\n",
    "# adjust brightness\n",
    "def bright_image(image):\n",
    "    hsv = cv2.cvtColor(image, cv2.COLOR_RGB2HSV)\n",
    "    h, s, v = cv2.split(hsv)\n",
    "    v = v.astype(np.float)\n",
    "    v *= (np.random.uniform()+0.2)\n",
    "    v[v>255] = 255\n",
    "    v[v<0] = 0\n",
    "    v = v.astype(np.uint8)\n",
    "    final_hsv = cv2.merge((h, s, v))\n",
    "    image_hsv = cv2.cvtColor(final_hsv, cv2.COLOR_HSV2RGB)\n",
    "    return image_hsv"
   ]
  },
  {
   "cell_type": "code",
   "execution_count": 3,
   "metadata": {
    "collapsed": true
   },
   "outputs": [],
   "source": [
    "# lesson function\n",
    "def convert_color(img, conv='RGB2YCrCb'):\n",
    "    if conv == 'RGB2YCrCb':\n",
    "        return cv2.cvtColor(img, cv2.COLOR_RGB2YCrCb)\n",
    "    if conv == 'BGR2YCrCb':\n",
    "        return cv2.cvtColor(img, cv2.COLOR_BGR2YCrCb)\n",
    "    if conv == 'RGB2LUV':\n",
    "        return cv2.cvtColor(img, cv2.COLOR_RGB2LUV)\n",
    "\n",
    "# Define a function to return HOG features and visualization\n",
    "def get_hog_features(img, orient, pix_per_cell, cell_per_block, \n",
    "                        vis=False, feature_vec=True):\n",
    "    # Call with two outputs if vis==True\n",
    "    if vis == True:\n",
    "        features, hog_image = hog(img, orientations=orient, \n",
    "                                  pixels_per_cell=(pix_per_cell, pix_per_cell),\n",
    "                                  cells_per_block=(cell_per_block, cell_per_block), \n",
    "                                  transform_sqrt=True, \n",
    "                                  visualise=vis, feature_vector=feature_vec)\n",
    "        return features, hog_image\n",
    "    # Otherwise call with one output\n",
    "    else:      \n",
    "        features = hog(img, orientations=orient, \n",
    "                       pixels_per_cell=(pix_per_cell, pix_per_cell),\n",
    "                       cells_per_block=(cell_per_block, cell_per_block), \n",
    "                       transform_sqrt=True, \n",
    "                       visualise=vis, feature_vector=feature_vec)\n",
    "        return features\n",
    "\n",
    "# Define a function to compute binned color features  \n",
    "def bin_spatial(img, size=(32, 32)):\n",
    "    # Use cv2.resize().ravel() to create the feature vector\n",
    "    features = cv2.resize(img, size).ravel()\n",
    "    # Return the feature vector\n",
    "    return features/255.0\n",
    "\n",
    "# Define a function to compute color histogram features \n",
    "# NEED TO CHANGE bins_range if reading .png files with mpimg!\n",
    "def color_hist(img, nbins=32, bins_range=(0, 255)):\n",
    "    # Compute the histogram of the color channels separately\n",
    "    channel1_hist = np.histogram(img[:,:,0], bins=nbins, range=bins_range)\n",
    "    channel1_hist[0] /= channel1_hist[0].sum()\n",
    "    channel2_hist = np.histogram(img[:,:,1], bins=nbins, range=bins_range)\n",
    "    channel2_hist[0] /= channel2_hist[0].sum()\n",
    "    channel3_hist = np.histogram(img[:,:,2], bins=nbins, range=bins_range)\n",
    "    channel3_hist[0] /= channel3_hist[0].sum()\n",
    "    # Concatenate the histograms into a single feature vector\n",
    "    hist_features = np.concatenate((channel1_hist[0], channel2_hist[0], channel3_hist[0]))\n",
    "    # Return the individual histograms, bin_centers and feature vector\n",
    "    return hist_features\n",
    "\n"
   ]
  },
  {
   "cell_type": "code",
   "execution_count": 4,
   "metadata": {},
   "outputs": [
    {
     "name": "stdout",
     "output_type": "stream",
     "text": [
      "0.200643605812\n"
     ]
    },
    {
     "name": "stderr",
     "output_type": "stream",
     "text": [
      "/home/tzyhpcom/anaconda3/lib/python3.6/site-packages/skimage/feature/_hog.py:119: skimage_deprecation: Default value of `block_norm`==`L1` is deprecated and will be changed to `L2-Hys` in v0.15\n",
      "  'be changed to `L2-Hys` in v0.15', skimage_deprecation)\n"
     ]
    },
    {
     "data": {
      "text/plain": [
       "<matplotlib.image.AxesImage at 0x7fcddd735ac8>"
      ]
     },
     "execution_count": 4,
     "metadata": {},
     "output_type": "execute_result"
    },
    {
     "data": {
      "image/png": "[encoded data removed]",
      "text/plain": [
       "<matplotlib.figure.Figure at 0x7fcdde2a7160>"
      ]
     },
     "metadata": {},
     "output_type": "display_data"
    }
   ],
   "source": [
    "file = '../cars_test/y1.jpg'\n",
    "image = cv2.imread(file)\n",
    "image = cv2.cvtColor(image, cv2.COLOR_BGR2RGB)\n",
    "image = cv2.resize(image, (64, 64))\n",
    "\n",
    "# Can be RGB, HSV, LUV, HLS, YUV, YCrCb\n",
    "orient = 36  # HOG orientations\n",
    "pix_per_cell = 8 # HOG pixels per cell\n",
    "cell_per_block = 2 # HOG cells per block\n",
    "car_hsv = cv2.cvtColor(image, cv2.COLOR_RGB2HSV)\n",
    "features, hog_img = get_hog_features(car_hsv[:,:,2], orient, pix_per_cell, cell_per_block, vis=True, feature_vec=True)\n",
    "print(np.max(features))\n",
    "plt.figure()\n",
    "plt.imshow(hog_img, cmap=\"gray\")"
   ]
  },
  {
   "cell_type": "code",
   "execution_count": 14,
   "metadata": {},
   "outputs": [],
   "source": [
    "file = '../cars_test/y1.jpg'\n",
    "image = cv2.imread(file)\n",
    "image = cv2.cvtColor(image, cv2.COLOR_BGR2RGB)\n",
    "image = cv2.resize(image, (16, 16))\n",
    "img = image\n",
    "nbins=32\n",
    "bins_range=(0, 255)\n",
    "# Compute the histogram of the color channels separately\n",
    "channel1_hist = np.histogram(img[:,:,0], bins=nbins, range=bins_range)\n",
    "channel1_hist = channel1_hist[0].copy()\n",
    "channel1_hist = np.divide(channel1_hist, channel1_hist.sum())\n",
    "channel2_hist = np.histogram(img[:,:,1], bins=nbins, range=bins_range)\n",
    "channel2_hist = channel2_hist[0].copy()\n",
    "channel2_hist = np.divide(channel2_hist, channel2_hist.sum())\n",
    "channel3_hist = np.histogram(img[:,:,2], bins=nbins, range=bins_range)\n",
    "channel3_hist = channel3_hist[0].copy()\n",
    "channel3_hist = np.divide(channel3_hist, channel3_hist.sum())\n",
    "# Concatenate the histograms into a single feature vector\n",
    "hist_features = np.concatenate((channel1_hist, channel2_hist, channel3_hist))"
   ]
  },
  {
   "cell_type": "code",
   "execution_count": 15,
   "metadata": {},
   "outputs": [
    {
     "name": "stdout",
     "output_type": "stream",
     "text": [
      "1.0\n"
     ]
    }
   ],
   "source": [
    "print(channel1_hist.sum())"
   ]
  }
 ],
 "metadata": {
  "kernelspec": {
   "display_name": "Python 3",
   "language": "python",
   "name": "python3"
  },
  "language_info": {
   "codemirror_mode": {
    "name": "ipython",
    "version": 3
   },
   "file_extension": ".py",
   "mimetype": "text/x-python",
   "name": "python",
   "nbconvert_exporter": "python",
   "pygments_lexer": "ipython3",
   "version": "3.6.3"
  }
 },
 "nbformat": 4,
 "nbformat_minor": 2
}
